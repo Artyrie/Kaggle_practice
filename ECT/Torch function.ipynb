{
 "cells": [
  {
   "cell_type": "code",
   "execution_count": 5,
   "id": "continent-traffic",
   "metadata": {},
   "outputs": [],
   "source": [
    "import torch\n",
    "import torch.nn as nn"
   ]
  },
  {
   "cell_type": "code",
   "execution_count": 6,
   "id": "offshore-science",
   "metadata": {},
   "outputs": [
    {
     "name": "stdout",
     "output_type": "stream",
     "text": [
      "tensor([[1, 2, 3, 4],\n",
      "        [5, 6, 7, 8]])\n",
      "torch.Size([2, 4])\n",
      "tensor([[[1, 2, 3, 4],\n",
      "         [5, 6, 7, 8]]])\n",
      "torch.Size([1, 2, 4])\n",
      "tensor([[[1, 2, 3, 4]],\n",
      "\n",
      "        [[5, 6, 7, 8]]])\n",
      "torch.Size([2, 1, 4])\n",
      "tensor([[[1],\n",
      "         [2],\n",
      "         [3],\n",
      "         [4]],\n",
      "\n",
      "        [[5],\n",
      "         [6],\n",
      "         [7],\n",
      "         [8]]])\n",
      "torch.Size([2, 4, 1])\n"
     ]
    }
   ],
   "source": [
    "x = torch.tensor([[1, 2, 3, 4], [5, 6, 7, 8]])\n",
    "print(x)\n",
    "print(x.shape)\n",
    "print(x.unsqueeze(0))\n",
    "print(x.unsqueeze(0).shape)\n",
    "print(x.unsqueeze(1))\n",
    "print(x.unsqueeze(1).shape)\n",
    "print(x.unsqueeze(2))\n",
    "print(x.unsqueeze(2).shape)"
   ]
  },
  {
   "cell_type": "code",
   "execution_count": 7,
   "id": "danish-david",
   "metadata": {},
   "outputs": [
    {
     "name": "stdout",
     "output_type": "stream",
     "text": [
      "tensor([[-1.4556, -2.1532, -1.5404],\n",
      "        [-0.7184,  0.0173, -1.5527]])\n",
      "torch.Size([2, 3])\n",
      "tensor([[0.4138, 0.2060, 0.3802],\n",
      "        [0.2840, 0.5927, 0.1233]])\n",
      "torch.Size([2, 3])\n",
      "tensor([-5.1492, -2.2539])\n",
      "torch.Size([2])\n"
     ]
    }
   ],
   "source": [
    "m = nn.Softmax(dim = 1)\n",
    "input = torch.randn(2, 3)\n",
    "print(input)\n",
    "print(input.shape)\n",
    "output = m(input)\n",
    "print(output)\n",
    "print(output.shape)\n",
    "\n",
    "r = input.sum(dim = 1)\n",
    "print(r)\n",
    "print(r.shape) # 맨 뒤 shape를 깜"
   ]
  },
  {
   "cell_type": "code",
   "execution_count": 8,
   "id": "bridal-testing",
   "metadata": {},
   "outputs": [
    {
     "name": "stdout",
     "output_type": "stream",
     "text": [
      "torch.Size([2, 3, 4])\n",
      "tensor([[[ 0.2881, -1.2104,  0.1285, -0.5789],\n",
      "         [-0.7929,  0.9530,  1.7707,  0.2155],\n",
      "         [-0.1454,  0.7611, -0.2382, -0.4353]],\n",
      "\n",
      "        [[ 0.2724, -0.1085, -1.2954, -0.0536],\n",
      "         [ 0.1782,  0.2330,  0.5830,  0.2024],\n",
      "         [-0.0487,  0.0418,  0.1305, -0.4842]]])\n",
      "torch.Size([2, 3])\n",
      "tensor([[ 0.8680, -1.0080, -1.5043],\n",
      "        [-0.7051, -0.8599, -0.6361]])\n",
      "torch.Size([2, 3, 1])\n",
      "tensor([[[ 0.8680],\n",
      "         [-1.0080],\n",
      "         [-1.5043]],\n",
      "\n",
      "        [[-0.7051],\n",
      "         [-0.8599],\n",
      "         [-0.6361]]])\n",
      "torch.Size([2, 3, 4])\n",
      "tensor([[[ 0.2501, -1.0506,  0.1115, -0.5025],\n",
      "         [ 0.7992, -0.9607, -1.7849, -0.2173],\n",
      "         [ 0.2188, -1.1449,  0.3583,  0.6548]],\n",
      "\n",
      "        [[-0.1921,  0.0765,  0.9133,  0.0378],\n",
      "         [-0.1532, -0.2004, -0.5013, -0.1740],\n",
      "         [ 0.0310, -0.0266, -0.0830,  0.3080]]])\n",
      "torch.Size([2, 4])\n",
      "tensor([[ 1.2681, -3.1561, -1.3152, -0.0649],\n",
      "        [-0.3143, -0.1505,  0.3290,  0.1718]])\n"
     ]
    }
   ],
   "source": [
    "input = torch.randn(2, 3, 4)\n",
    "print(input.shape)\n",
    "print(input)\n",
    "input2 = torch.randn(2, 3)\n",
    "print(input2.shape)\n",
    "print(input2)\n",
    "input2 = input2.unsqueeze(2)\n",
    "print(input2.shape)\n",
    "print(input2)\n",
    "output = input * input2\n",
    "print(output.shape)\n",
    "print(output)\n",
    "output = output.sum(dim = 1)\n",
    "print(output.shape)\n",
    "print(output)"
   ]
  },
  {
   "cell_type": "code",
   "execution_count": null,
   "id": "subtle-farming",
   "metadata": {},
   "outputs": [],
   "source": []
  }
 ],
 "metadata": {
  "kernelspec": {
   "display_name": "Python 3",
   "language": "python",
   "name": "python3"
  },
  "language_info": {
   "codemirror_mode": {
    "name": "ipython",
    "version": 3
   },
   "file_extension": ".py",
   "mimetype": "text/x-python",
   "name": "python",
   "nbconvert_exporter": "python",
   "pygments_lexer": "ipython3",
   "version": "3.7.10"
  }
 },
 "nbformat": 4,
 "nbformat_minor": 5
}
