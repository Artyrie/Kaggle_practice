{
  "nbformat": 4,
  "nbformat_minor": 0,
  "metadata": {
    "colab": {
      "name": "submit test .ipynb",
      "provenance": []
    },
    "kernelspec": {
      "name": "python3",
      "display_name": "Python 3"
    }
  },
  "cells": [
    {
      "cell_type": "code",
      "metadata": {
        "id": "1VXGXY78kwFS"
      },
      "source": [
        "import pandas as pd\r\n",
        "import os\r\n",
        "import json\r\n",
        "import tensorflow as tf\r\n",
        "import numpy as np\r\n",
        "from tqdm import tqdm"
      ],
      "execution_count": null,
      "outputs": []
    },
    {
      "cell_type": "code",
      "metadata": {
        "id": "syKcrWGFk2Fm"
      },
      "source": [
        "DATA_DIR = DATA_DIR = '/content/gdrive/My Drive/Kaggle/Cassava/'\r\n",
        "TEST_DIR = DATA_DIR + 'test_images/'\r\n",
        "BATCH_SIZE = 1\r\n",
        "NUM_CLASSES = 5\r\n",
        "SEED = 0\r\n",
        "EPOCH = 32\r\n",
        "INPUT_SIZE = 512"
      ],
      "execution_count": null,
      "outputs": []
    },
    {
      "cell_type": "code",
      "metadata": {
        "colab": {
          "base_uri": "https://localhost:8080/"
        },
        "id": "_8bxaV58lFu-",
        "outputId": "bbec0238-e219-4997-f8d5-f7c78ab846f6"
      },
      "source": [
        "from google.colab import drive\r\n",
        "\r\n",
        "drive.mount('/content/gdrive/')"
      ],
      "execution_count": null,
      "outputs": [
        {
          "output_type": "stream",
          "text": [
            "Drive already mounted at /content/gdrive/; to attempt to forcibly remount, call drive.mount(\"/content/gdrive/\", force_remount=True).\n"
          ],
          "name": "stdout"
        }
      ]
    },
    {
      "cell_type": "code",
      "metadata": {
        "colab": {
          "base_uri": "https://localhost:8080/"
        },
        "id": "T8IdKgHkk8ll",
        "outputId": "9731fdaa-ca86-4d84-c305-df8073518a52"
      },
      "source": [
        "os.listdir(DATA_DIR)"
      ],
      "execution_count": null,
      "outputs": [
        {
          "output_type": "execute_result",
          "data": {
            "text/plain": [
              "['sample_submission.csv',\n",
              " 'train.csv',\n",
              " 'label_num_to_disease_map.json',\n",
              " 'train_images',\n",
              " 'test_images',\n",
              " 'model1_866.h5']"
            ]
          },
          "metadata": {
            "tags": []
          },
          "execution_count": 30
        }
      ]
    },
    {
      "cell_type": "code",
      "metadata": {
        "colab": {
          "base_uri": "https://localhost:8080/"
        },
        "id": "4Hleu53nk83d",
        "outputId": "8ca86ea9-35c7-4dc1-d1f8-459d45e1a00e"
      },
      "source": [
        "with open(DATA_DIR + '/label_num_to_disease_map.json', 'r') as file:\r\n",
        "    labels = json.load(file)\r\n",
        "    \r\n",
        "labels"
      ],
      "execution_count": null,
      "outputs": [
        {
          "output_type": "execute_result",
          "data": {
            "text/plain": [
              "{'0': 'Cassava Bacterial Blight (CBB)',\n",
              " '1': 'Cassava Brown Streak Disease (CBSD)',\n",
              " '2': 'Cassava Green Mottle (CGM)',\n",
              " '3': 'Cassava Mosaic Disease (CMD)',\n",
              " '4': 'Healthy'}"
            ]
          },
          "metadata": {
            "tags": []
          },
          "execution_count": 48
        }
      ]
    },
    {
      "cell_type": "code",
      "metadata": {
        "id": "r00RZqh-k9eX"
      },
      "source": [
        "from keras.models import load_model\r\n",
        "\r\n",
        "model1 = load_model(DATA_DIR + '/model1_866.h5')"
      ],
      "execution_count": null,
      "outputs": []
    },
    {
      "cell_type": "code",
      "metadata": {
        "id": "JJsEzC_4lHGu"
      },
      "source": [
        "#subm = pd.read_csv(DATA_DIR + 'sample_submission.csv')\r\n",
        "subm = pd.read_csv('sample_submission.csv')"
      ],
      "execution_count": null,
      "outputs": []
    },
    {
      "cell_type": "code",
      "metadata": {
        "colab": {
          "base_uri": "https://localhost:8080/",
          "height": 111
        },
        "id": "8TV4gpN6lJHO",
        "outputId": "8dda313f-f81b-476a-b439-26145dd8826e"
      },
      "source": [
        "subm.head()"
      ],
      "execution_count": null,
      "outputs": [
        {
          "output_type": "execute_result",
          "data": {
            "text/html": [
              "<div>\n",
              "<style scoped>\n",
              "    .dataframe tbody tr th:only-of-type {\n",
              "        vertical-align: middle;\n",
              "    }\n",
              "\n",
              "    .dataframe tbody tr th {\n",
              "        vertical-align: top;\n",
              "    }\n",
              "\n",
              "    .dataframe thead th {\n",
              "        text-align: right;\n",
              "    }\n",
              "</style>\n",
              "<table border=\"1\" class=\"dataframe\">\n",
              "  <thead>\n",
              "    <tr style=\"text-align: right;\">\n",
              "      <th></th>\n",
              "      <th>image_id</th>\n",
              "      <th>label</th>\n",
              "    </tr>\n",
              "  </thead>\n",
              "  <tbody>\n",
              "    <tr>\n",
              "      <th>0</th>\n",
              "      <td>2216849948.jpg</td>\n",
              "      <td>4</td>\n",
              "    </tr>\n",
              "    <tr>\n",
              "      <th>1</th>\n",
              "      <td>1000015157.jpg</td>\n",
              "      <td>0</td>\n",
              "    </tr>\n",
              "  </tbody>\n",
              "</table>\n",
              "</div>"
            ],
            "text/plain": [
              "         image_id  label\n",
              "0  2216849948.jpg      4\n",
              "1  1000015157.jpg      0"
            ]
          },
          "metadata": {
            "tags": []
          },
          "execution_count": 51
        }
      ]
    },
    {
      "cell_type": "code",
      "metadata": {
        "id": "Q2qkk09_lJqG"
      },
      "source": [
        "subm.label = subm.label.astype(\"str\")"
      ],
      "execution_count": null,
      "outputs": []
    },
    {
      "cell_type": "code",
      "metadata": {
        "colab": {
          "base_uri": "https://localhost:8080/"
        },
        "id": "eRWvjtAflKXW",
        "outputId": "d056cf55-159e-4491-be13-0c9d9e18c620"
      },
      "source": [
        "test_datagen = tf.keras.preprocessing.image.ImageDataGenerator(\r\n",
        "    rotation_range = 90,\r\n",
        "    width_shift_range = 0.1,\r\n",
        "    height_shift_range = 0.1,\r\n",
        "    shear_range = 0.1,\r\n",
        "    zoom_range = 0.3,\r\n",
        "    fill_mode = 'nearest',\r\n",
        "    horizontal_flip = True,\r\n",
        "    vertical_flip = True,\r\n",
        "    rescale = 1./255,)\r\n",
        "\r\n",
        "test_generator = test_datagen.flow_from_dataframe(\r\n",
        "        dataframe = subm,\r\n",
        "        directory = TEST_DIR,\r\n",
        "        x_col = \"image_id\" ,\r\n",
        "        y_col = \"label\",\r\n",
        "        target_size = (INPUT_SIZE, INPUT_SIZE),\r\n",
        "        color_mode = \"rgb\",\r\n",
        "        shuffle = False,\r\n",
        "        class_mode = 'categorical',\r\n",
        "        batch_size = 1)\r\n",
        "\r\n",
        "filenames = test_generator.filenames\r\n",
        "nb_samples = len(filenames)"
      ],
      "execution_count": null,
      "outputs": [
        {
          "output_type": "stream",
          "text": [
            "Found 2 validated image filenames belonging to 2 classes.\n"
          ],
          "name": "stdout"
        }
      ]
    },
    {
      "cell_type": "code",
      "metadata": {
        "id": "FPeCEFQ2lLQF"
      },
      "source": [
        "def tta_prediction(model, testX) : \r\n",
        "    tta_steps = 10\r\n",
        "    predictions = []\r\n",
        "    for i in tqdm(range(tta_steps)) : \r\n",
        "        preds = model.predict_generator(test_generator)\r\n",
        "        predictions.append(preds)\r\n",
        "    predictions = np.mean(predictions, axis = 0)\r\n",
        "    return predictions"
      ],
      "execution_count": null,
      "outputs": []
    },
    {
      "cell_type": "code",
      "metadata": {
        "colab": {
          "base_uri": "https://localhost:8080/"
        },
        "id": "Lzn3Q4gQlMF1",
        "outputId": "70c11549-5c08-43da-d670-afac392c70c1"
      },
      "source": [
        "predict = tta_prediction(model1, test_generator)\r\n",
        "\r\n",
        "for i in range(len(predict)) : \r\n",
        "    subm.loc[i].label = np.argmax(predict[i])"
      ],
      "execution_count": null,
      "outputs": [
        {
          "output_type": "stream",
          "text": [
            "\r  0%|          | 0/10 [00:00<?, ?it/s]/usr/local/lib/python3.6/dist-packages/tensorflow/python/keras/engine/training.py:1905: UserWarning: `Model.predict_generator` is deprecated and will be removed in a future version. Please use `Model.predict`, which supports generators.\n",
            "  warnings.warn('`Model.predict_generator` is deprecated and '\n",
            "100%|██████████| 10/10 [00:08<00:00,  1.16it/s]\n"
          ],
          "name": "stderr"
        }
      ]
    },
    {
      "cell_type": "code",
      "metadata": {
        "id": "Hx3rj9yHlMol"
      },
      "source": [
        "subm.to_csv('submission.csv', index = None)"
      ],
      "execution_count": null,
      "outputs": []
    },
    {
      "cell_type": "code",
      "metadata": {
        "colab": {
          "base_uri": "https://localhost:8080/",
          "height": 111
        },
        "id": "ZDO0Vqv2lNjf",
        "outputId": "6687d888-8095-4ab9-9adb-f9483bd26a81"
      },
      "source": [
        "result = pd.read_csv('./submission.csv')\r\n",
        "result"
      ],
      "execution_count": null,
      "outputs": [
        {
          "output_type": "execute_result",
          "data": {
            "text/html": [
              "<div>\n",
              "<style scoped>\n",
              "    .dataframe tbody tr th:only-of-type {\n",
              "        vertical-align: middle;\n",
              "    }\n",
              "\n",
              "    .dataframe tbody tr th {\n",
              "        vertical-align: top;\n",
              "    }\n",
              "\n",
              "    .dataframe thead th {\n",
              "        text-align: right;\n",
              "    }\n",
              "</style>\n",
              "<table border=\"1\" class=\"dataframe\">\n",
              "  <thead>\n",
              "    <tr style=\"text-align: right;\">\n",
              "      <th></th>\n",
              "      <th>image_id</th>\n",
              "      <th>label</th>\n",
              "    </tr>\n",
              "  </thead>\n",
              "  <tbody>\n",
              "    <tr>\n",
              "      <th>0</th>\n",
              "      <td>2216849948.jpg</td>\n",
              "      <td>4</td>\n",
              "    </tr>\n",
              "    <tr>\n",
              "      <th>1</th>\n",
              "      <td>1000015157.jpg</td>\n",
              "      <td>0</td>\n",
              "    </tr>\n",
              "  </tbody>\n",
              "</table>\n",
              "</div>"
            ],
            "text/plain": [
              "         image_id  label\n",
              "0  2216849948.jpg      4\n",
              "1  1000015157.jpg      0"
            ]
          },
          "metadata": {
            "tags": []
          },
          "execution_count": 62
        }
      ]
    }
  ]
}